{
 "cells": [
  {
   "cell_type": "markdown",
   "id": "d668fe8f-710e-4a69-8b7b-c25303e3bc77",
   "metadata": {
    "jp-MarkdownHeadingCollapsed": true
   },
   "source": [
    "# lists\n",
    "\n",
    "date 13/01/2025"
   ]
  },
  {
   "cell_type": "code",
   "execution_count": 1,
   "id": "4222d36f-d755-45ba-864f-b6cad3b18233",
   "metadata": {},
   "outputs": [],
   "source": [
    "l=[1,2,3,4,5]"
   ]
  },
  {
   "cell_type": "code",
   "execution_count": 2,
   "id": "95190a5b-6043-44e8-b273-56f1da5e310a",
   "metadata": {},
   "outputs": [
    {
     "data": {
      "text/plain": [
       "1"
      ]
     },
     "execution_count": 2,
     "metadata": {},
     "output_type": "execute_result"
    }
   ],
   "source": [
    "l[0]"
   ]
  },
  {
   "cell_type": "code",
   "execution_count": 4,
   "id": "31925e0f-f814-453e-acd0-e1c560c589e9",
   "metadata": {},
   "outputs": [
    {
     "data": {
      "text/plain": [
       "5"
      ]
     },
     "execution_count": 4,
     "metadata": {},
     "output_type": "execute_result"
    }
   ],
   "source": [
    "l[4] #fifth element"
   ]
  },
  {
   "cell_type": "code",
   "execution_count": 5,
   "id": "0834a8f6-73aa-4e13-87bb-5d299146063d",
   "metadata": {},
   "outputs": [
    {
     "data": {
      "text/plain": [
       "5"
      ]
     },
     "execution_count": 5,
     "metadata": {},
     "output_type": "execute_result"
    }
   ],
   "source": [
    "l[-1] #also give fifth element"
   ]
  },
  {
   "cell_type": "markdown",
   "id": "4a4d5431-6121-4d3c-a147-255ea09b6ad2",
   "metadata": {
    "jp-MarkdownHeadingCollapsed": true
   },
   "source": [
    "#### A list can store different data type\n"
   ]
  },
  {
   "cell_type": "code",
   "execution_count": 7,
   "id": "1c015255-0531-4051-84e7-aaf10e4a0f80",
   "metadata": {},
   "outputs": [],
   "source": [
    "l=[1,'b', \"ahgsdg\", True, 1.0]"
   ]
  },
  {
   "cell_type": "code",
   "execution_count": 10,
   "id": "b88bd6c4-054a-41ce-b403-4823a594f423",
   "metadata": {},
   "outputs": [
    {
     "data": {
      "text/plain": [
       "[0, 1, 2, 3, 4, 5, 6, 7, 8, 9]"
      ]
     },
     "execution_count": 10,
     "metadata": {},
     "output_type": "execute_result"
    }
   ],
   "source": [
    "# create a list which start 0 and goes to 9\n",
    "l= list(range(0,10)) # most likely does not use a python loop\n",
    "l"
   ]
  },
  {
   "cell_type": "code",
   "execution_count": 11,
   "id": "1a211ebb-13af-4dfd-8fab-f73b0edefff6",
   "metadata": {},
   "outputs": [
    {
     "data": {
      "text/plain": [
       "[0, 1, 2, 3, 4, 5, 6, 7, 8]"
      ]
     },
     "execution_count": 11,
     "metadata": {},
     "output_type": "execute_result"
    }
   ],
   "source": [
    "l = [i for i in range(0,9)]\n",
    "l"
   ]
  },
  {
   "cell_type": "code",
   "execution_count": 13,
   "id": "cf7ad240-0c1c-4d4b-b1dc-7510f6724582",
   "metadata": {},
   "outputs": [
    {
     "name": "stdout",
     "output_type": "stream",
     "text": [
      "[0, 1, 2, 3, 4, 5, 6, 7, 8, 9]\n"
     ]
    }
   ],
   "source": [
    "l=[]\n",
    "for i in range(10):\n",
    "    l.append(i)\n",
    "print(l)"
   ]
  },
  {
   "cell_type": "code",
   "execution_count": 15,
   "id": "56ae8a18-0590-4af8-ae70-910d68124865",
   "metadata": {},
   "outputs": [
    {
     "data": {
      "text/plain": [
       "[1, 3, 5, 7, 9]"
      ]
     },
     "execution_count": 15,
     "metadata": {},
     "output_type": "execute_result"
    }
   ],
   "source": [
    "odd = [i for i in range(1,10,2)]\n",
    "odd"
   ]
  },
  {
   "cell_type": "markdown",
   "id": "8fbc64dd-5bbc-4382-8940-cbb217bbb997",
   "metadata": {},
   "source": [
    "### Tuple"
   ]
  },
  {
   "cell_type": "code",
   "execution_count": null,
   "id": "284df746-acfa-4213-a3cb-be7de1614ff8",
   "metadata": {},
   "outputs": [],
   "source": []
  },
  {
   "cell_type": "code",
   "execution_count": 16,
   "id": "fb9f3b98-9a5b-4e02-bc86-892d8c4915f9",
   "metadata": {},
   "outputs": [
    {
     "name": "stdout",
     "output_type": "stream",
     "text": [
      "[1, 'a', 'ahgsdg', True, 1.0]\n"
     ]
    },
    {
     "data": {
      "text/plain": [
       "[1, 17.0254, 'ahgsdg', True, 1.0]"
      ]
     },
     "execution_count": 16,
     "metadata": {},
     "output_type": "execute_result"
    }
   ],
   "source": [
    "l=[1,'b', \"ahgsdg\", True, 1.0]\n",
    "l[1] = 'a'\n",
    "print(l)\n",
    "l[1] = 17.0254\n",
    "l"
   ]
  },
  {
   "cell_type": "code",
   "execution_count": 19,
   "id": "14dfbb38-631a-493d-b3fd-682085640d9c",
   "metadata": {},
   "outputs": [
    {
     "data": {
      "text/plain": [
       "'asshkjas'"
      ]
     },
     "execution_count": 19,
     "metadata": {},
     "output_type": "execute_result"
    }
   ],
   "source": [
    "# Tuple\n",
    "t = (1, 0, 1.0, \"asshkjas\")\n",
    "t[-1]"
   ]
  },
  {
   "cell_type": "code",
   "execution_count": 21,
   "id": "b1798023-c308-45c0-bd56-388daaa882dd",
   "metadata": {},
   "outputs": [
    {
     "ename": "TypeError",
     "evalue": "'tuple' object does not support item assignment",
     "output_type": "error",
     "traceback": [
      "\u001b[1;31m---------------------------------------------------------------------------\u001b[0m",
      "\u001b[1;31mTypeError\u001b[0m                                 Traceback (most recent call last)",
      "Cell \u001b[1;32mIn[21], line 1\u001b[0m\n\u001b[1;32m----> 1\u001b[0m \u001b[43mt\u001b[49m\u001b[43m[\u001b[49m\u001b[38;5;241;43m0\u001b[39;49m\u001b[43m]\u001b[49m \u001b[38;5;241m=\u001b[39m \u001b[38;5;124m'\u001b[39m\u001b[38;5;124ma\u001b[39m\u001b[38;5;124m'\u001b[39m \u001b[38;5;66;03m# Tuple is immutable\u001b[39;00m\n",
      "\u001b[1;31mTypeError\u001b[0m: 'tuple' object does not support item assignment"
     ]
    }
   ],
   "source": [
    "t[0] = 'a' # Tuple is immutable"
   ]
  },
  {
   "cell_type": "markdown",
   "id": "19f81b3e-94c8-4361-bdfa-ac7d2b29fd5a",
   "metadata": {},
   "source": [
    "# Numpy"
   ]
  },
  {
   "cell_type": "markdown",
   "id": "54cd5098-9da8-46f7-b20b-94cb99418ff2",
   "metadata": {},
   "source": [
    " install numpy library first"
   ]
  },
  {
   "cell_type": "code",
   "execution_count": 22,
   "id": "312d67e4-f763-4cc8-96c4-ae937415ab4b",
   "metadata": {},
   "outputs": [],
   "source": [
    "import numpy as np"
   ]
  },
  {
   "cell_type": "code",
   "execution_count": 23,
   "id": "2c15b569-cd0a-4181-aa44-2a93497ef355",
   "metadata": {},
   "outputs": [
    {
     "data": {
      "text/plain": [
       "array([1, 2, 3, 4])"
      ]
     },
     "execution_count": 23,
     "metadata": {},
     "output_type": "execute_result"
    }
   ],
   "source": [
    "a = np.array([1, 2, 3, 4])\n",
    "a"
   ]
  },
  {
   "cell_type": "code",
   "execution_count": 24,
   "id": "5363b524-daeb-4360-b9c4-5e543ec7d8f6",
   "metadata": {},
   "outputs": [
    {
     "data": {
      "text/plain": [
       "dtype('int64')"
      ]
     },
     "execution_count": 24,
     "metadata": {},
     "output_type": "execute_result"
    }
   ],
   "source": [
    "a.dtype"
   ]
  },
  {
   "cell_type": "code",
   "execution_count": 27,
   "id": "6765bb96-beb5-41a4-acda-168a02fc1723",
   "metadata": {},
   "outputs": [
    {
     "data": {
      "text/plain": [
       "numpy.ndarray"
      ]
     },
     "execution_count": 27,
     "metadata": {},
     "output_type": "execute_result"
    }
   ],
   "source": [
    "type(a)"
   ]
  },
  {
   "cell_type": "code",
   "execution_count": 31,
   "id": "b6705613-4f25-4900-9169-8ae0aac38462",
   "metadata": {},
   "outputs": [
    {
     "data": {
      "text/plain": [
       "array([1, 2, 9, 4])"
      ]
     },
     "execution_count": 31,
     "metadata": {},
     "output_type": "execute_result"
    }
   ],
   "source": [
    "a[2] = 9.1\n",
    "a"
   ]
  },
  {
   "cell_type": "code",
   "execution_count": 36,
   "id": "2449a0d9-8aa1-43cb-9e98-b71666ebdaa4",
   "metadata": {},
   "outputs": [
    {
     "name": "stdout",
     "output_type": "stream",
     "text": [
      "float64\n"
     ]
    },
    {
     "data": {
      "text/plain": [
       "array([1., 2., 3., 4.])"
      ]
     },
     "execution_count": 36,
     "metadata": {},
     "output_type": "execute_result"
    }
   ],
   "source": [
    "a = np.array([1, 2, 3, 4], dtype=\"float\")\n",
    "print(a.dtype)\n",
    "a"
   ]
  },
  {
   "cell_type": "code",
   "execution_count": 33,
   "id": "bb2249c6-ab5f-4b9d-837d-02a3d316c84e",
   "metadata": {},
   "outputs": [
    {
     "data": {
      "text/plain": [
       "array([1. , 2. , 9.1, 4. ])"
      ]
     },
     "execution_count": 33,
     "metadata": {},
     "output_type": "execute_result"
    }
   ],
   "source": [
    "a[2] = 9.1\n",
    "a"
   ]
  },
  {
   "cell_type": "code",
   "execution_count": 34,
   "id": "abc93c6c-19af-4abb-9de0-a71ad53194b7",
   "metadata": {},
   "outputs": [
    {
     "data": {
      "text/plain": [
       "dtype('float64')"
      ]
     },
     "execution_count": 34,
     "metadata": {},
     "output_type": "execute_result"
    }
   ],
   "source": [
    "a = np.array([1, 2, 3, 4.0])\n",
    "a.dtype"
   ]
  },
  {
   "cell_type": "code",
   "execution_count": 39,
   "id": "7749b259-fca6-455e-866e-e423731d394c",
   "metadata": {},
   "outputs": [
    {
     "name": "stdout",
     "output_type": "stream",
     "text": [
      "[1. 6. 3. 4.]\n",
      "b= [1. 6. 3. 4.]\n",
      "a= [1. 6. 3. 4.]\n"
     ]
    }
   ],
   "source": [
    "print(a)\n",
    "b = a\n",
    "b[1] = 6\n",
    "print('b=',b)\n",
    "print('a=',a)"
   ]
  },
  {
   "cell_type": "code",
   "execution_count": 41,
   "id": "7b7789ef-e536-4d31-9696-5f666194dbc4",
   "metadata": {},
   "outputs": [
    {
     "name": "stdout",
     "output_type": "stream",
     "text": [
      "[1. 6. 3. 4.]\n",
      "b= [ 1.  6.  3. 69.]\n",
      "a= [1. 6. 3. 4.]\n"
     ]
    }
   ],
   "source": [
    "print(a)\n",
    "b = a.copy()\n",
    "b[3] = 69\n",
    "print('b=',b)\n",
    "print('a=',a)"
   ]
  },
  {
   "cell_type": "code",
   "execution_count": null,
   "id": "d097ead0-6f79-40f5-a22f-92a998f2f991",
   "metadata": {},
   "outputs": [],
   "source": []
  },
  {
   "cell_type": "markdown",
   "id": "3fcab2fd-3be3-4254-9d76-36a5b3f5ef1c",
   "metadata": {},
   "source": [
    "## File I/O"
   ]
  },
  {
   "cell_type": "code",
   "execution_count": 42,
   "id": "5957c2d0-1f3d-4758-ac52-555cc71e8b01",
   "metadata": {},
   "outputs": [],
   "source": [
    "with open(\"a.txt\", \"w\") as f:\n",
    "    f.write(\"skjdhsd LKD Jwjjh \\n\")"
   ]
  },
  {
   "cell_type": "code",
   "execution_count": 43,
   "id": "12e988b9-5bd8-4aaf-bfd7-6cbed277b586",
   "metadata": {},
   "outputs": [],
   "source": [
    "#Not recomend this\n",
    "f = open(\"b.txt\",\"w\")\n",
    "f.write(\"agshjhs\")\n",
    "f.close()"
   ]
  },
  {
   "cell_type": "code",
   "execution_count": 45,
   "id": "6d212f21-43fb-47b8-aaa5-1b693767584b",
   "metadata": {},
   "outputs": [],
   "source": [
    "with open(\"print_formating.txt\", \"w\") as f:\n",
    "    f.write(f\"{123.534:.8f}\\t{10:d} \\t string\")"
   ]
  },
  {
   "cell_type": "code",
   "execution_count": null,
   "id": "1ad474de-cf39-41b2-ba41-1affacaa25dc",
   "metadata": {},
   "outputs": [],
   "source": []
  }
 ],
 "metadata": {
  "kernelspec": {
   "display_name": "Python 3 (ipykernel)",
   "language": "python",
   "name": "python3"
  },
  "language_info": {
   "codemirror_mode": {
    "name": "ipython",
    "version": 3
   },
   "file_extension": ".py",
   "mimetype": "text/x-python",
   "name": "python",
   "nbconvert_exporter": "python",
   "pygments_lexer": "ipython3",
   "version": "3.9.7"
  }
 },
 "nbformat": 4,
 "nbformat_minor": 5
}

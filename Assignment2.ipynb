{
 "cells": [
  {
   "cell_type": "markdown",
   "id": "5c37fd94-76d8-45f8-ac73-52b9510fdb5a",
   "metadata": {},
   "source": [
    "# Assignment2\n",
    "date: 19-01-2025"
   ]
  },
  {
   "cell_type": "markdown",
   "id": "d82ca730-d501-4c66-ad26-c31dacd1dff0",
   "metadata": {},
   "source": [
    "## Main program"
   ]
  },
  {
   "cell_type": "code",
   "execution_count": 9,
   "id": "032604f3-213d-455e-9fc0-2ab6f192f946",
   "metadata": {},
   "outputs": [
    {
     "name": "stdout",
     "output_type": "stream",
     "text": [
      "Number of particles =  216\n",
      "[5. 5. 5.]\n"
     ]
    },
    {
     "data": {
      "text/plain": [
       "(216, 3)"
      ]
     },
     "execution_count": 9,
     "metadata": {},
     "output_type": "execute_result"
    }
   ],
   "source": [
    "import numpy as np\n",
    "n = 6\n",
    "npart = n**3\n",
    "spacing = 1.0\n",
    "rc = 2.5    # cutoff lenth\n",
    "coords = np.array([[i, j, k] for i in range(n) for j in range(n) for k in range(n)])*spacing\n",
    "print('Number of particles = ',npart)\n",
    "print(coords[215])\n",
    "coords.shape"
   ]
  },
  {
   "cell_type": "code",
   "execution_count": 10,
   "id": "40935e51-855d-42b2-a858-310df481181e",
   "metadata": {},
   "outputs": [
    {
     "name": "stdout",
     "output_type": "stream",
     "text": [
      "r cutoff  =   2.5\n",
      "total potential energy =  -614.1894071956373\n"
     ]
    },
    {
     "data": {
      "text/plain": [
       "(216, 3)"
      ]
     },
     "execution_count": 10,
     "metadata": {},
     "output_type": "execute_result"
    }
   ],
   "source": [
    "# All functons used in this cell are written below(RUN THOSE CELL FIRST!)\n",
    "box_length = 6.348475790538236\n",
    "newcoords = PBC(coords,box_length)\n",
    "F, total_pot = forces(coords)\n",
    "print('total potential energy = ',total_pot)\n",
    "coords.shape"
   ]
  },
  {
   "cell_type": "markdown",
   "id": "4feaab3b-7eb6-4743-ad83-b08bf7cf2eaa",
   "metadata": {},
   "source": [
    "### Implementation of periodic boundary conditions\n"
   ]
  },
  {
   "cell_type": "code",
   "execution_count": 6,
   "id": "c703dac6-60a4-4336-8d9a-18e4a80cc492",
   "metadata": {},
   "outputs": [],
   "source": [
    "def PBC(coord,box_length):\n",
    "    \"\"\"\n",
    "    PBC is applied in this function.\n",
    "    coord: 2D array of size (particle no. , 3)\n",
    "    box_lenth: lenth of one side of cubic box\n",
    "    \"\"\"\n",
    "    coord = np.where(coord > length, coord - length, coord)\n",
    "    coord = np.where(coord < 0, coord + length, coord) \n",
    "    return coord\n",
    "    "
   ]
  },
  {
   "cell_type": "markdown",
   "id": "5640b8c4-403f-4347-90b3-aaeea3d55e0d",
   "metadata": {},
   "source": [
    "### Implementation of minimum image convention"
   ]
  },
  {
   "cell_type": "code",
   "execution_count": 7,
   "id": "d4b4278f-c6d9-46a8-bc56-b00f83ea25c5",
   "metadata": {},
   "outputs": [],
   "source": [
    "def min_img_conv(coordinate1, coordinate2, box_length):\n",
    "    dx,dy,dz = (coordinate2[0]-coordinate1[0]),(coordinate2[1]-coordinate1[1]),(coordinate2[2]-coordinate1[2])\n",
    "    dx = dx - round(dx / box_length) * box_length\n",
    "    dy = dy - round(dy / box_length) * box_length\n",
    "    dz = dz - round(dz / box_length) * box_length\n",
    "    return np.array([dx,dy,dz])"
   ]
  },
  {
   "cell_type": "markdown",
   "id": "931c37be-42fa-401e-94cd-8a9a32383c86",
   "metadata": {},
   "source": [
    "### A funtion to calculate the forces on each particle"
   ]
  },
  {
   "cell_type": "code",
   "execution_count": 8,
   "id": "9846acb8-0dc0-4fe7-970d-877299f52eaf",
   "metadata": {},
   "outputs": [],
   "source": [
    "def forces(coordinates):\n",
    "    \"\"\"\n",
    "    This function is for calculate total force on each particles and total potential energy.\n",
    "    Input: coordinates(particle no. , 3)\n",
    "    Output: Force(Particle no.) and Total pot\n",
    "    \"\"\"\n",
    "    print('r cutoff  =  ', rc)\n",
    "    rc2 = rc**2\n",
    "    x,y,z = coordinates[:,0],coordinates[:,1],coordinates[:,2]\n",
    "    npart=len(x)\n",
    "    F=np.zeros([npart,3])\n",
    "    total_pot = 0.0\n",
    "    r2c = 1/rc2\n",
    "    r6c = r2c**3\n",
    "    pot_cut = 4.0*r6c*(r6c-1)\n",
    "    with open(\"force.txt\", \"w\") as f:\n",
    "        f.write(f\"fx \\t \\t fy \\t \\t fz \\n\")\n",
    "            \n",
    "    for i in range(npart-1):\n",
    "        for j in range(i+1,npart):\n",
    "            dx,dy,dz = min_img_conv(coordinates[i,:], coordinates[j,:], box_length)\n",
    "            r2 = dx**2+dy**2+dz**2\n",
    "            if (r2 < rc2) :\n",
    "                r2i = 1/r2\n",
    "                r6i = r2i**3\n",
    "                ff = 48.0*r2i*r6i*(r6i - 0.5)\n",
    "                F[i,0] = F[i,0] + ff*dx\n",
    "                F[j,0] = F[j,0] - ff*dx\n",
    "                F[i,1] = F[i,1] + ff*dy\n",
    "                F[j,1] = F[j,1] - ff*dy\n",
    "                F[i,2] = F[i,2] + ff*dz\n",
    "                F[j,2] = F[j,2] - ff*dz\n",
    "                total_pot = total_pot + 4.0*r6i*(r6i-1)- pot_cut\n",
    "    for i in range(npart):\n",
    "        with open(\"force.txt\", \"a\") as f:\n",
    "            f.write(f\"{F[i,0]:.8f}\\t{F[i,1]:.8f}\\t{F[i,2]:.8f} \\n\")\n",
    "    return F, total_pot\n",
    "            "
   ]
  },
  {
   "cell_type": "code",
   "execution_count": null,
   "id": "e28cec64-07f8-40f4-a440-b91ff4ecc701",
   "metadata": {},
   "outputs": [],
   "source": []
  },
  {
   "cell_type": "code",
   "execution_count": null,
   "id": "3366d6e6-fc22-4ba2-b988-e8002a73e7b1",
   "metadata": {},
   "outputs": [],
   "source": []
  }
 ],
 "metadata": {
  "kernelspec": {
   "display_name": "Python 3 (ipykernel)",
   "language": "python",
   "name": "python3"
  },
  "language_info": {
   "codemirror_mode": {
    "name": "ipython",
    "version": 3
   },
   "file_extension": ".py",
   "mimetype": "text/x-python",
   "name": "python",
   "nbconvert_exporter": "python",
   "pygments_lexer": "ipython3",
   "version": "3.9.7"
  }
 },
 "nbformat": 4,
 "nbformat_minor": 5
}

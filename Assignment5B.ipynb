{
 "cells": [
  {
   "cell_type": "markdown",
   "id": "c803fa29-1240-44e2-9e41-16fe2c0545eb",
   "metadata": {},
   "source": [
    "# Assignment 5B (Monte Carlo)\n",
    "* @Shachidev \n",
    "` Date: 12-02-2025`"
   ]
  },
  {
   "cell_type": "markdown",
   "id": "51aad9ab-8383-4aa3-a1f8-f7d36ffbf1a2",
   "metadata": {},
   "source": [
    " * Details of the system\n",
    "     - N = 216\n",
    "     - rho = 0.8442\n",
    "     - mass = 1.0\n",
    "     - $\\sigma$ = 1.0\n",
    "     - $\\epsilon$ = 1.0\n",
    "     - r$_\\text{cut}$ = 2.5$\\sigma$\n",
    "     - dt = 0.001\n",
    "     - kBT = 1.0"
   ]
  },
  {
   "cell_type": "code",
   "execution_count": 10,
   "id": "cb5411d3-3ba5-47e6-9531-0260b54d5774",
   "metadata": {},
   "outputs": [],
   "source": [
    "# Full MD code\n",
    "\n",
    "import time\n",
    "import sys\n",
    "import numpy as np\n",
    "import matplotlib.pyplot as plt\n"
   ]
  },
  {
   "cell_type": "markdown",
   "id": "20cc184f-5dc0-4be5-9f0e-2d1f41050fbf",
   "metadata": {},
   "source": [
    "### Parameters of the system"
   ]
  },
  {
   "cell_type": "code",
   "execution_count": 11,
   "id": "050a7a55-9333-4e41-aa1b-26aea8882c15",
   "metadata": {},
   "outputs": [],
   "source": [
    "N=216     # Total no. of particles.(cube root must be integer)\n",
    "m=1.0\n",
    "sig=1.0\n",
    "roh=0.8442\n",
    "epsilon = 1.0\n",
    "rc = 2.5    # cutoff lenth\n",
    "box_length = 6.348475790538236 # for roh = 0.8442\n",
    "mean, k_B = 0, 1.0\n",
    "T  = 0.1  # Initial temprature(used for velociti init)\n",
    "T0 = 1.0   # Desired temprature\n",
    "beta = 1/(k_B * T0)\n",
    "\n",
    "dr = 0.5*sig"
   ]
  },
  {
   "cell_type": "markdown",
   "id": "d35c4446-ed2f-47d7-a44e-432748891df3",
   "metadata": {},
   "source": [
    "# Functions"
   ]
  },
  {
   "cell_type": "markdown",
   "id": "1043b4a5-eadc-4923-94fe-86d9ca6b4429",
   "metadata": {},
   "source": [
    "## Velocity initialize"
   ]
  },
  {
   "cell_type": "code",
   "execution_count": 12,
   "id": "eed799fc-04fd-46a1-8dbb-3bc232f36eba",
   "metadata": {},
   "outputs": [],
   "source": [
    "import numpy as np\n",
    "N = 216   # Number of particles\n",
    "def velocity_initialize(N):\n",
    "    \"\"\"Initialize velocities of N particles from a normal distribution, \n",
    "    remove net momentum, and normalize.\"\"\"\n",
    "    \n",
    "    std_dev = k_B * T\n",
    "    bins = int(np.sqrt(N))\n",
    "\n",
    "    # Generate velocities and remove net momentum\n",
    "    velocities = np.random.normal(mean, std_dev, (N, 3))\n",
    "    velocities -= velocities.mean(axis=0)\n",
    "\n",
    "    # Normalize to match desired temperature\n",
    "    temperature = 0.5 * np.sum(velocities**2)\n",
    "    velocities *= np.sqrt(T/temperature)\n",
    "\n",
    "    temperature = 0.5 * np.sum(velocities**2)\n",
    "    print('Temperature = ', temperature)\n",
    "    \n",
    "    return velocities[:, 0], velocities[:, 1], velocities[:, 2]\n",
    "    "
   ]
  },
  {
   "cell_type": "markdown",
   "id": "c20f7cc9-dac1-4ec5-82ea-93752d241703",
   "metadata": {},
   "source": [
    "## periodic boundary condition and minimum image convention"
   ]
  },
  {
   "cell_type": "code",
   "execution_count": 13,
   "id": "bf705fc0-e737-4f1f-873c-41972720dda9",
   "metadata": {},
   "outputs": [],
   "source": [
    "import math\n",
    "def PBC(coord,box_length):\n",
    "    \"\"\"\n",
    "    PBC is applied in this function.\n",
    "    coord: 2D array of size (particle no. , 3)\n",
    "    box_lenth: lenth of one side of cubic box\n",
    "    \"\"\"\n",
    "\n",
    "    # \n",
    "    for i in range(N): \n",
    "        for j in range(3):\n",
    "            if (coord[i, j] > box_length):\n",
    "                coord[i, j] -= box_length* math.floor(coord[i, j]/box_length)\n",
    "            elif (coord[i, j] < 0.0):\n",
    "                coord[i, j] -= box_length* math.floor(coord[i, j]/box_length)\n",
    "    return coord\n",
    "\n",
    "def min_img_conv(coordinate1, coordinate2, box_length):\n",
    "    displacement = coordinate2 - coordinate1\n",
    "    displacement -= np.round(displacement / box_length) * box_length\n",
    "    return displacement\n",
    "\n"
   ]
  },
  {
   "cell_type": "markdown",
   "id": "10d563bb-c527-41a6-a26f-f0d6502fd208",
   "metadata": {},
   "source": [
    "## Energy calculation"
   ]
  },
  {
   "cell_type": "code",
   "execution_count": 14,
   "id": "e454beb8-27bd-4b5d-96eb-861a4159b362",
   "metadata": {},
   "outputs": [],
   "source": [
    "def potenergy(coordinates):\n",
    "    \"\"\"\n",
    "    Total potential energy of the sysrem is calculated.\n",
    "    input: coordinates (posns of the particles).\n",
    "    other variables(N,rc) inside the function are global variable.\n",
    "    output: total potential energy.\n",
    "    \"\"\"\n",
    "    rc2 = rc**2\n",
    "    total_pot = 0.0\n",
    "    r2c = 1/rc2\n",
    "    r6c = r2c**3\n",
    "    pot_cut = 4.0*r6c*(r6c-1)\n",
    "  \n",
    "    for i in range(N-1):\n",
    "        for j in range(i+1,N):\n",
    "            dx,dy,dz = min_img_conv(coordinates[j,:], coordinates[i,:], box_length)\n",
    "            r2 = dx**2+dy**2+dz**2\n",
    "            if (r2 < rc2) :\n",
    "                r2i = 1/r2\n",
    "                r6i = r2i**3\n",
    "                total_pot = total_pot + 4.0*r6i*(r6i-1)- pot_cut\n",
    "    return total_pot\n",
    "\n",
    "\n",
    "# energy for one particle \n",
    "def energy(coordinates, p_coord, particle_no):\n",
    "    \"\"\"\n",
    "    potential energy of one particle is calculated.\n",
    "    input: coordinates, p_coord (posns of that particle) and particle_no.\n",
    "    other variables(N,rc) inside the function are global variable.\n",
    "    output: potential energy for that particle.\n",
    "    \"\"\"\n",
    "    rc2 = rc**2\n",
    "    total = 0.0\n",
    "    r2c = 1/rc2\n",
    "    r6c = r2c**3\n",
    "  \n",
    "    for j in range(1,N):\n",
    "        if ( j != particle_no) : \n",
    "            dx,dy,dz = min_img_conv(coordinates[j,:], p_coord , box_length)\n",
    "            r2 = dx**2+dy**2+dz**2\n",
    "            if (r2 < rc2) :\n",
    "                r2i = 1/r2\n",
    "                r6i = r2i**3\n",
    "                total = total + 4.0*r6i*(r6i-1)\n",
    "    return total\n",
    "            "
   ]
  },
  {
   "cell_type": "markdown",
   "id": "201fb6d7-82f3-4c46-8dd9-9c99d29e505e",
   "metadata": {},
   "source": [
    "## Monte carlo move"
   ]
  },
  {
   "cell_type": "code",
   "execution_count": 15,
   "id": "94a07eb3-faa1-40a0-be30-b01a8cb12344",
   "metadata": {},
   "outputs": [],
   "source": [
    "from numpy import random\n",
    "def mcmove(coords):\n",
    "\n",
    "    rand_p = random.randint(0, N - 1)\n",
    "    ui = energy(coords, coords[rand_p,:],rand_p)\n",
    "    randx = (np.random.random(3) - 0.5) * 2 * dr\n",
    "    coord_new =coords[rand_p, :]+ randx\n",
    "    uf = energy(coords, coord_new,rand_p)\n",
    "\n",
    "    if (random.random() < np.exp(- beta*(uf - ui)) ):\n",
    "        coords[rand_p, :] = coord_new\n",
    "    return coords\n",
    "    "
   ]
  },
  {
   "cell_type": "markdown",
   "id": "217a9b7c-4f62-48b6-8b9f-e448c48cbaf4",
   "metadata": {},
   "source": [
    "## Sampling"
   ]
  },
  {
   "cell_type": "code",
   "execution_count": 16,
   "id": "2b06c6c8-2806-4e8e-9638-600ebbd08ecb",
   "metadata": {},
   "outputs": [],
   "source": [
    "def write_gro(file_pointer, coordinates, velocities, box_dims, residue_name, atom_name):\n",
    "    r\"\"\"\n",
    "    Appends a frame to a .gro file.\n",
    "\n",
    "    Parameters:\n",
    "    - file_pointer: Open file object in append mode.\n",
    "    - coordinates: array of (x, y, z) tuples for atom positions in nm.\n",
    "    - velocities:array of (vx, vy, vz) tuples for atom velocities in nm/ps.\n",
    "    - box_dims: array of (x, y, z) for box dimensions in nm.\n",
    "    - residue_name: Residue name (default: 'Ar').\n",
    "    - atom_name: Atom name (default: 'Ar').\n",
    "    \"\"\"\n",
    "    num_atoms = len(coordinates)\n",
    "\n",
    "    # Write frame header and number of atoms\n",
    "    file_pointer.write(\"Appended Frame\\n\")\n",
    "    file_pointer.write(f\"{num_atoms:5d}\\n\")\n",
    "\n",
    "    # Write atom information\n",
    "    for i, ((x, y, z), (vx, vy, vz)) in enumerate(zip(coordinates, velocities), start=1):\n",
    "        residue_number = 1  # Default residue number\n",
    "        atom_number = i\n",
    "        file_pointer.write(f\"{residue_number:5d}{residue_name:<5}{atom_name:>5}{atom_number:5d}{x:8.3f}{y:8.3f}{z:8.3f}{vx:8.4f}{vy:8.4f}{vz:8.4f}\\n\")\n",
    "\n",
    "    # Write box dimensions\n",
    "    file_pointer.write(f\"{box_dims[0]:10.5f}{box_dims[1]:10.5f}{box_dims[2]:10.5f}\\n\")\n",
    "    "
   ]
  },
  {
   "cell_type": "markdown",
   "id": "635bdabb-4133-4694-b384-39dfb502bb44",
   "metadata": {},
   "source": [
    "# Main Program"
   ]
  },
  {
   "cell_type": "code",
   "execution_count": 17,
   "id": "3444d645-25fb-4a21-8ed9-7c97b9d2166c",
   "metadata": {},
   "outputs": [
    {
     "name": "stdout",
     "output_type": "stream",
     "text": [
      "Position initialized!!\n",
      "Temperature =  0.1\n",
      "Velocity initialized!!\n",
      "DONE!!!  Value are stored in the file\n",
      "CPU Time(s) =  547.765625\n"
     ]
    }
   ],
   "source": [
    "cpu_start = time.process_time()\n",
    "\n",
    "# position initiaalize\n",
    "d = 1.0\n",
    "box_dims=(box_length, box_length, box_length)\n",
    "coordds = np.array([[i, j, k] for i in range(6) for j in range(6) for k in range(6)], dtype=float) * d\n",
    "coordds += d / 2\n",
    "\n",
    "x, y, z = coordds.T\n",
    "print('Position initialized!!')\n",
    "\n",
    "# call the function for velocity init\n",
    "vx,vy,vz=velocity_initialize(N)\n",
    "print('Velocity initialized!!')\n",
    "\n",
    "# pack into 2d array\n",
    "V=np.column_stack((vx, vy, vz))\n",
    "X=np.column_stack((x, y, z))\n",
    "# Initial configuration store\n",
    "with open(\"init.gro\", \"w\") as f:\n",
    "        f.write(f\"216 particles in a box intrect with L-J pot \\n\")\n",
    "        f.write('216\\n')\n",
    "for i in range(N):\n",
    "    with open(\"init.gro\", \"a\") as f:\n",
    "        f.write(f\"1 \\t Ar \\t Ar \\t {i:4d} \\t {X[i,0]:.8f}\\t{X[i,1]:.8f}\\t{X[i,2]:.8f} \\n\")\n",
    "with open(\"init.gro\", \"a\") as f:\n",
    "        f.write(f\" {box_length:.8f}\\t{box_length:.8f}\\t{box_length:.8f} \\n\")\n",
    "\n",
    "\n",
    "\n",
    "#Main loop of the simulation                  <-------------------------------------------\n",
    "Etot = 0.0\n",
    "Temp = 0.0\n",
    "with open(\"energies_mc.txt\", \"w\") as file:\n",
    "    file.write(f\" Time \\t \\t step \\t \\t Pot_energy \\n\")\n",
    "    \n",
    "# Parameters for ain loop                  <-------------------------------------------\n",
    "t = 0.0\n",
    "dt = 0.001\n",
    "\n",
    "count=0\n",
    "max_count = 1000\n",
    "while (count < max_count):\n",
    "    X = mcmove(X)\n",
    "    Total_pot = potenergy(X)/N\n",
    "    X = PBC(X,box_length)\n",
    " \n",
    "    if (np.mod(count,10) == 0):\n",
    "        with open(\"energies_mc.txt\", \"a\") as file:\n",
    "            file.write(f\"{t:.8f} \\t {count:6d} \\t {Total_pot:.8e} \\n\")\n",
    "        with open(\"mc.gro\", \"a\") as f:\n",
    "            write_gro(f, X, V, box_dims, \"Ar\", \"Ar\")\n",
    "    t = t + dt\n",
    "    count=count+1\n",
    "\n",
    "\n",
    "print('DONE!!!  Value are stored in the file')\n",
    "cpu_end = time.process_time()\n",
    "print(\"CPU Time(s) = \", cpu_end - cpu_start)\n",
    "\n"
   ]
  },
  {
   "cell_type": "markdown",
   "id": "bbd1bedb-e45c-4534-b86a-45b253f2e168",
   "metadata": {},
   "source": [
    "## Energy vs time Ploting "
   ]
  },
  {
   "cell_type": "code",
   "execution_count": 18,
   "id": "5903d593-00b7-47e4-af7e-cd503086b14a",
   "metadata": {},
   "outputs": [
    {
     "name": "stdout",
     "output_type": "stream",
     "text": [
      "Data shape: (100, 3)\n"
     ]
    },
    {
     "data": {
      "image/png": "[encoded data removed]",
      "text/plain": [
       "<Figure size 800x600 with 1 Axes>"
      ]
     },
     "metadata": {},
     "output_type": "display_data"
    }
   ],
   "source": [
    "# Load data from file and ploting of energies\n",
    "data = np.loadtxt(\"energies_mc.txt\", skiprows=1,ndmin=2)\n",
    "print(\"Data shape:\", data.shape)\n",
    "# Extract columns\n",
    "time = data[:, 0]         \n",
    "potential_energy = data[:, 2]  \n",
    "   \n",
    "\n",
    "# Plot the data\n",
    "plt.figure(figsize=(8, 6))\n",
    "\n",
    "plt.plot(time, potential_energy, label=\"Potential Energy\", linestyle=\"-\")\n",
    "\n",
    "# Labels and Title\n",
    "plt.xlabel(\"Time ---------->\")\n",
    "plt.ylabel(\"Energy -------->\")\n",
    "plt.title(\"Time vs Energy\")\n",
    "plt.legend()\n",
    "plt.grid(True)\n",
    "\n",
    "plt.savefig(\"mc.pdf\", format=\"pdf\", dpi=300, bbox_inches=\"tight\")\n",
    "# Show the plot\n",
    "plt.show()\n"
   ]
  },
  {
   "cell_type": "code",
   "execution_count": null,
   "id": "7094f5e4-3d58-4d2a-a697-e80d66a79eff",
   "metadata": {},
   "outputs": [],
   "source": []
  }
 ],
 "metadata": {
  "kernelspec": {
   "display_name": "Python 3 (ipykernel)",
   "language": "python",
   "name": "python3"
  },
  "language_info": {
   "codemirror_mode": {
    "name": "ipython",
    "version": 3
   },
   "file_extension": ".py",
   "mimetype": "text/x-python",
   "name": "python",
   "nbconvert_exporter": "python",
   "pygments_lexer": "ipython3",
   "version": "3.9.7"
  }
 },
 "nbformat": 4,
 "nbformat_minor": 5
}
